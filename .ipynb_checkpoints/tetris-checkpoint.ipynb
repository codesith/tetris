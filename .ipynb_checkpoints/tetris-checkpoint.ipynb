{
 "cells": [
  {
   "cell_type": "code",
   "execution_count": 1,
   "metadata": {},
   "outputs": [],
   "source": [
    "import pandas as pd\n",
    "import ipywidgets as widgets\n",
    "from ipywidgets import Layout\n",
    "from IPython.core.interactiveshell import InteractiveShell\n",
    "from ipyevents import Event"
   ]
  },
  {
   "cell_type": "code",
   "execution_count": 2,
   "metadata": {},
   "outputs": [],
   "source": [
    "InteractiveShell.ast_node_interactivity = \"all\"\n",
    "max_rows = 20\n",
    "pd.set_option('display.max_rows', max_rows)\n",
    "df = pd.read_csv('board.csv', header=None)\n",
    "\n",
    "output = widgets.Output()\n",
    "board = widgets.HBox([output], layout=Layout(width='400px', height='600px'))\n",
    "def refreshBoard(source=None):\n",
    "    output.clear_output()\n",
    "    with output:\n",
    "        display(df.iloc[1:max_rows+1])\n",
    "\n",
    "boardEvent = Event(source=output, watched_events=['keydown'])\n",
    "def handle_event(event):\n",
    "    refreshBoard(None)\n",
    "boardEvent.on_dom_event(handle_event)"
   ]
  },
  {
   "cell_type": "code",
   "execution_count": 3,
   "metadata": {},
   "outputs": [
    {
     "data": {
      "application/vnd.jupyter.widget-view+json": {
       "model_id": "2bc209109d4e4658a088d45c3cb463be",
       "version_major": 2,
       "version_minor": 0
      },
      "text/plain": [
       "HBox(children=(Output(),), layout=Layout(height='600px', width='400px'))"
      ]
     },
     "metadata": {},
     "output_type": "display_data"
    }
   ],
   "source": [
    "display(board)\n",
    "refreshBoard()"
   ]
  },
  {
   "cell_type": "code",
   "execution_count": null,
   "metadata": {},
   "outputs": [],
   "source": []
  }
 ],
 "metadata": {
  "kernelspec": {
   "display_name": "Python 3",
   "language": "python",
   "name": "python3"
  },
  "language_info": {
   "codemirror_mode": {
    "name": "ipython",
    "version": 3
   },
   "file_extension": ".py",
   "mimetype": "text/x-python",
   "name": "python",
   "nbconvert_exporter": "python",
   "pygments_lexer": "ipython3",
   "version": "3.8.1"
  }
 },
 "nbformat": 4,
 "nbformat_minor": 4
}

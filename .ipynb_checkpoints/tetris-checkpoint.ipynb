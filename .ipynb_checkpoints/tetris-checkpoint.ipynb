{
 "cells": [
  {
   "cell_type": "code",
   "execution_count": 1,
   "metadata": {},
   "outputs": [],
   "source": [
    "import pandas as pd\n",
    "import ipywidgets as widgets\n",
    "from ipywidgets import Layout, HTML\n",
    "\n",
    "from IPython.core.interactiveshell import InteractiveShell\n",
    "from ipyevents import Event\n",
    "import random"
   ]
  },
  {
   "cell_type": "code",
   "execution_count": 2,
   "metadata": {},
   "outputs": [],
   "source": [
    "# Setup global configurations\n",
    "#InteractiveShell.ast_node_interactivity = \"all\"\n",
    "max_rows = 20\n",
    "pd.set_option('display.max_rows', max_rows)"
   ]
  },
  {
   "cell_type": "code",
   "execution_count": 3,
   "metadata": {},
   "outputs": [],
   "source": [
    "# Load empty board\n",
    "df = pd.read_csv('board.csv', header=None)\n",
    "index = []\n",
    "for i in range(-4, 21):\n",
    "    index.append(i)\n",
    "df.set_index([pd.Index(index)], inplace=True)"
   ]
  },
  {
   "cell_type": "code",
   "execution_count": 4,
   "metadata": {},
   "outputs": [],
   "source": [
    "# Initialize board\n",
    "output = widgets.Output()\n",
    "board = widgets.HBox([output], layout=Layout(width='400px', height='600px'))\n",
    "def refreshBoard(source=None):\n",
    "    output.clear_output(wait=True)\n",
    "    with output:\n",
    "        display(df.iloc[4:24])"
   ]
  },
  {
   "cell_type": "code",
   "execution_count": 5,
   "metadata": {},
   "outputs": [],
   "source": [
    "# Drop new tetromino\n",
    "t = {}\n",
    "def randomTetromino():\n",
    "    global t\n",
    "    tetrominos = [{'type':'I', 'rotation':0, 'location':[(1,3), (1,4), (1,5), (1,6)]}, \n",
    "                  {'type':'O', 'rotation':0, 'location':[(1,4), (1,5), (2,4), (2,5)]},\n",
    "                  {'type':'T', 'rotation':0, 'location':[(0,4), (1,3), (1,4), (1,5)]},\n",
    "                  {'type':'S', 'rotation':0, 'location':[(0,4), (0,5), (1,3), (1,4)]},\n",
    "                  {'type':'Z', 'rotation':0, 'location':[(0,3), (0,4), (1,4), (1,5)]},\n",
    "                  {'type':'J', 'rotation':0, 'location':[(0,3), (1,3), (1,4), (1,5)]},\n",
    "                  {'type':'L', 'rotation':0, 'location':[(0,5), (1,3), (1,4), (1,5)]}]\n",
    "    t = random.choice(tetrominos)\n",
    "    t = tetrominos[3]\n",
    "    for l in t['location']:\n",
    "        df.iloc[l] = \"#\""
   ]
  },
  {
   "cell_type": "code",
   "execution_count": 6,
   "metadata": {},
   "outputs": [],
   "source": [
    "def move(dir): \n",
    "    nt = [] \n",
    "    for i in range(0, 4):\n",
    "        if dir == \"down\":\n",
    "            nt.append((t['location'][i][0]+1, t['location'][i][1]))\n",
    "        elif dir == \"left\":\n",
    "            nt.append((t['location'][i][0], t['location'][i][1]-1))\n",
    "        elif dir == \"right\":\n",
    "            nt.append((t['location'][i][0], t['location'][i][1]+1))\n",
    "            \n",
    "    blocked = False\n",
    "    # make sure nothing blocks\n",
    "    for i in range(0, 4):\n",
    "        if df.iloc[nt[i]] == \"#\" and nt[i] not in t['location']:\n",
    "            blocked = True\n",
    "            if dir == \"down\":\n",
    "                randomTetromino()\n",
    "            break\n",
    "        if nt[i][1] < 0 or nt[i][1] > 10:\n",
    "            blocked = True\n",
    "            break\n",
    "    if not blocked:\n",
    "        for l in t['location']:\n",
    "            df.iloc[l] = ' '\n",
    "        for i in range(0, 4):\n",
    "            t['location'][i] = nt[i]\n",
    "        for l in t['location']:\n",
    "            df.iloc[l] = \"#\""
   ]
  },
  {
   "cell_type": "code",
   "execution_count": 7,
   "metadata": {},
   "outputs": [],
   "source": [
    "def rotate():\n",
    "    nt = []\n",
    "    ct = t['location']\n",
    "    if t['type'] == 'I':\n",
    "        if t['rotation'] == 0:\n",
    "            nt.append((ct[0][0]-1, ct[0][1]+2))\n",
    "            nt.append((ct[1][0], ct[1][1]+1))\n",
    "            nt.append((ct[2][0]+1, ct[2][1]))\n",
    "            nt.append((ct[3][0]+2, ct[3][1]-1))\n",
    "        elif t['rotation'] == 1:\n",
    "            nt.append((ct[0][0]+2, ct[0][1]+1))\n",
    "            nt.append((ct[1][0]+1, ct[1][1]))\n",
    "            nt.append((ct[2][0], ct[2][1]-1))\n",
    "            nt.append((ct[3][0]-1, ct[3][1]-2))\n",
    "        elif t['rotation'] == 2:\n",
    "            nt.append((ct[0][0]+1, ct[0][1]-2))\n",
    "            nt.append((ct[1][0], ct[1][1]-1))\n",
    "            nt.append((ct[2][0]-1, ct[2][1]))\n",
    "            nt.append((ct[3][0]-2, ct[3][1]+1))\n",
    "        elif t['rotation'] == 3:\n",
    "            nt.append((ct[0][0]-2, ct[0][1]-1))\n",
    "            nt.append((ct[1][0]-1, ct[1][1]))\n",
    "            nt.append((ct[2][0], ct[2][1]+1))\n",
    "            nt.append((ct[3][0]+1, ct[3][1]+2))\n",
    "    elif t['type'] == 'T':\n",
    "        if t['rotation'] == 0:\n",
    "            nt.append((ct[0][0]+1, ct[0][1]+1))\n",
    "            nt.append((ct[1][0]-1, ct[1][1]+1))\n",
    "            nt.append((ct[2][0], ct[2][1]))\n",
    "            nt.append((ct[3][0]+1, ct[3][1]-1))\n",
    "        elif t['rotation'] == 1:\n",
    "            nt.append((ct[0][0]+1, ct[0][1]-1))\n",
    "            nt.append((ct[1][0]+1, ct[1][1]+1))\n",
    "            nt.append((ct[2][0], ct[2][1]))\n",
    "            nt.append((ct[3][0]-1, ct[3][1]-1)) \n",
    "        elif t['rotation'] == 2:\n",
    "            nt.append((ct[0][0]-1, ct[0][1]-1))\n",
    "            nt.append((ct[1][0]+1, ct[1][1]-1))\n",
    "            nt.append((ct[2][0], ct[2][1]))\n",
    "            nt.append((ct[3][0]-1, ct[3][1]+1))\n",
    "        elif t['rotation'] == 3:\n",
    "            nt.append((ct[0][0]-1, ct[0][1]+1))\n",
    "            nt.append((ct[1][0]-1, ct[1][1]-1))\n",
    "            nt.append((ct[2][0], ct[2][1]))\n",
    "            nt.append((ct[3][0]+1, ct[3][1]+1))\n",
    "    elif t['type'] == 'S':\n",
    "        if t['rotation'] == 0:\n",
    "            nt.append((ct[0][0]+1, ct[0][1]+1))\n",
    "            nt.append((ct[1][0]+2, ct[1][1]))\n",
    "            nt.append((ct[2][0]-1, ct[2][1]+1))\n",
    "            nt.append((ct[3][0], ct[3][1]))\n",
    "        elif t['rotation'] == 1:\n",
    "            nt.append((ct[0][0]+1, ct[0][1]-1))\n",
    "            nt.append((ct[1][0], ct[1][1]-2))\n",
    "            nt.append((ct[2][0]+1, ct[2][1]+1))\n",
    "            nt.append((ct[3][0], ct[3][1])) \n",
    "        elif t['rotation'] == 2:\n",
    "            nt.append((ct[0][0]-1, ct[0][1]-1))\n",
    "            nt.append((ct[1][0]-2, ct[1][1]))\n",
    "            nt.append((ct[2][0]+1, ct[2][1]-1))\n",
    "            nt.append((ct[3][0], ct[3][1]))\n",
    "        elif t['rotation'] == 3:\n",
    "            nt.append((ct[0][0]-1, ct[0][1]+1))\n",
    "            nt.append((ct[1][0], ct[1][1]+2))\n",
    "            nt.append((ct[2][0]-1, ct[2][1]-1))\n",
    "            nt.append((ct[3][0], ct[3][1]))\n",
    "    elif t['type'] == 'Z':\n",
    "        if t['rotation'] == 0:\n",
    "            nt.append((ct[0][0], ct[0][1]))\n",
    "            nt.append((ct[1][0], ct[1][1]))\n",
    "            nt.append((ct[2][0], ct[2][1]))\n",
    "            nt.append((ct[3][0], ct[3][1]))\n",
    "        elif t['rotation'] == 1:\n",
    "            nt.append((ct[0][0], ct[0][1]))\n",
    "            nt.append((ct[1][0], ct[1][1]))\n",
    "            nt.append((ct[2][0], ct[2][1]))\n",
    "            nt.append((ct[3][0], ct[3][1])) \n",
    "        elif t['rotation'] == 2:\n",
    "            nt.append((ct[0][0], ct[0][1]))\n",
    "            nt.append((ct[1][0], ct[1][1]))\n",
    "            nt.append((ct[2][0], ct[2][1]))\n",
    "            nt.append((ct[3][0], ct[3][1]))\n",
    "        elif t['rotation'] == 3:\n",
    "            nt.append((ct[0][0], ct[0][1]))\n",
    "            nt.append((ct[1][0], ct[1][1]))\n",
    "            nt.append((ct[2][0], ct[2][1]))\n",
    "            nt.append((ct[3][0], ct[3][1]))\n",
    "    elif t['type'] == 'J':\n",
    "        if t['rotation'] == 0:\n",
    "            nt.append((ct[0][0], ct[0][1]))\n",
    "            nt.append((ct[1][0], ct[1][1]))\n",
    "            nt.append((ct[2][0], ct[2][1]))\n",
    "            nt.append((ct[3][0], ct[3][1]))\n",
    "        elif t['rotation'] == 1:\n",
    "            nt.append((ct[0][0], ct[0][1]))\n",
    "            nt.append((ct[1][0], ct[1][1]))\n",
    "            nt.append((ct[2][0], ct[2][1]))\n",
    "            nt.append((ct[3][0], ct[3][1])) \n",
    "        elif t['rotation'] == 2:\n",
    "            nt.append((ct[0][0], ct[0][1]))\n",
    "            nt.append((ct[1][0], ct[1][1]))\n",
    "            nt.append((ct[2][0], ct[2][1]))\n",
    "            nt.append((ct[3][0], ct[3][1]))\n",
    "        elif t['rotation'] == 3:\n",
    "            nt.append((ct[0][0], ct[0][1]))\n",
    "            nt.append((ct[1][0], ct[1][1]))\n",
    "            nt.append((ct[2][0], ct[2][1]))\n",
    "            nt.append((ct[3][0], ct[3][1]))\n",
    "    elif t['type'] == 'L':\n",
    "        if t['rotation'] == 0:\n",
    "            nt.append((ct[0][0], ct[0][1]))\n",
    "            nt.append((ct[1][0], ct[1][1]))\n",
    "            nt.append((ct[2][0], ct[2][1]))\n",
    "            nt.append((ct[3][0], ct[3][1]))\n",
    "        elif t['rotation'] == 1:\n",
    "            nt.append((ct[0][0], ct[0][1]))\n",
    "            nt.append((ct[1][0], ct[1][1]))\n",
    "            nt.append((ct[2][0], ct[2][1]))\n",
    "            nt.append((ct[3][0], ct[3][1])) \n",
    "        elif t['rotation'] == 2:\n",
    "            nt.append((ct[0][0], ct[0][1]))\n",
    "            nt.append((ct[1][0], ct[1][1]))\n",
    "            nt.append((ct[2][0], ct[2][1]))\n",
    "            nt.append((ct[3][0], ct[3][1]))\n",
    "        elif t['rotation'] == 3:\n",
    "            nt.append((ct[0][0], ct[0][1]))\n",
    "            nt.append((ct[1][0], ct[1][1]))\n",
    "            nt.append((ct[2][0], ct[2][1]))\n",
    "            nt.append((ct[3][0], ct[3][1]))\n",
    "    \n",
    "    blocked = False\n",
    "    # make sure nothing blocks\n",
    "    for i in range(0, 4):\n",
    "        if df.iloc[nt[i]] == \"#\" and nt[i] not in t['location']:\n",
    "            blocked = True\n",
    "            break\n",
    "        if nt[i][1] < 0 or nt[i][1] > 10:\n",
    "            blocked = True\n",
    "            break\n",
    "    if not blocked:\n",
    "        for l in t['location']:\n",
    "            df.iloc[l] = ' '\n",
    "        for i in range(0, 4):\n",
    "            t['location'][i] = nt[i]\n",
    "        for l in t['location']:\n",
    "            df.iloc[l] = \"#\"\n",
    "    t['rotation'] = (t['rotation'] + 1) % 4"
   ]
  },
  {
   "cell_type": "code",
   "execution_count": 8,
   "metadata": {},
   "outputs": [],
   "source": [
    "# Listen to keyboard events\n",
    "keyPressed = HTML('Key Pressed')\n",
    "boardEvent = Event(source=output, watched_events=['keydown'])\n",
    "def handle_event(event):\n",
    "    lines = ['{}: {}'.format(k, v) for k, v in event.items()]\n",
    "    content = '<br>'.join(lines)\n",
    "    keyPressed.value = event['code']\n",
    "    if event['code'] == 'ArrowDown':\n",
    "        move(\"down\")\n",
    "    elif event['code'] == 'ArrowLeft':\n",
    "        move(\"left\")\n",
    "    elif event['code'] == 'ArrowRight':\n",
    "        move(\"right\")\n",
    "    elif event['code'] == 'Space':\n",
    "        rotate()\n",
    "    refreshBoard(None)\n",
    "boardEvent.on_dom_event(handle_event)"
   ]
  },
  {
   "cell_type": "code",
   "execution_count": 9,
   "metadata": {},
   "outputs": [],
   "source": [
    "# Start game \n",
    "def startGame():\n",
    "    randomTetromino()\n",
    "    display(board, keyPressed)\n",
    "    refreshBoard()"
   ]
  },
  {
   "cell_type": "code",
   "execution_count": 10,
   "metadata": {},
   "outputs": [
    {
     "data": {
      "application/vnd.jupyter.widget-view+json": {
       "model_id": "c713990644fa4c37a0281cc2ca7160a3",
       "version_major": 2,
       "version_minor": 0
      },
      "text/plain": [
       "HBox(children=(Output(),), layout=Layout(height='600px', width='400px'))"
      ]
     },
     "metadata": {},
     "output_type": "display_data"
    },
    {
     "data": {
      "application/vnd.jupyter.widget-view+json": {
       "model_id": "c60f5d5f1b8043558a61781873d3c445",
       "version_major": 2,
       "version_minor": 0
      },
      "text/plain": [
       "HTML(value='Key Pressed')"
      ]
     },
     "metadata": {},
     "output_type": "display_data"
    }
   ],
   "source": [
    "startGame()"
   ]
  },
  {
   "cell_type": "code",
   "execution_count": 11,
   "metadata": {},
   "outputs": [
    {
     "data": {
      "text/plain": [
       "{'type': 'S', 'rotation': 0, 'location': [(0, 4), (0, 5), (1, 3), (1, 4)]}"
      ]
     },
     "execution_count": 11,
     "metadata": {},
     "output_type": "execute_result"
    }
   ],
   "source": [
    "t"
   ]
  },
  {
   "cell_type": "code",
   "execution_count": null,
   "metadata": {},
   "outputs": [],
   "source": []
  },
  {
   "cell_type": "code",
   "execution_count": null,
   "metadata": {},
   "outputs": [],
   "source": []
  },
  {
   "cell_type": "code",
   "execution_count": null,
   "metadata": {},
   "outputs": [],
   "source": []
  },
  {
   "cell_type": "code",
   "execution_count": null,
   "metadata": {},
   "outputs": [],
   "source": []
  }
 ],
 "metadata": {
  "kernelspec": {
   "display_name": "Python 3",
   "language": "python",
   "name": "python3"
  },
  "language_info": {
   "codemirror_mode": {
    "name": "ipython",
    "version": 3
   },
   "file_extension": ".py",
   "mimetype": "text/x-python",
   "name": "python",
   "nbconvert_exporter": "python",
   "pygments_lexer": "ipython3",
   "version": "3.8.1"
  }
 },
 "nbformat": 4,
 "nbformat_minor": 4
}

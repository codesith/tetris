{
 "cells": [
  {
   "cell_type": "code",
   "execution_count": 1,
   "metadata": {},
   "outputs": [],
   "source": [
    "import pandas as pd\n",
    "import ipywidgets as widgets\n",
    "from ipywidgets import Layout, HTML\n",
    "\n",
    "from IPython.core.interactiveshell import InteractiveShell\n",
    "from ipyevents import Event\n",
    "import random"
   ]
  },
  {
   "cell_type": "code",
   "execution_count": 2,
   "metadata": {},
   "outputs": [],
   "source": [
    "# Setup global configurations\n",
    "#InteractiveShell.ast_node_interactivity = \"all\"\n",
    "max_rows = 20\n",
    "pd.set_option('display.max_rows', max_rows)"
   ]
  },
  {
   "cell_type": "code",
   "execution_count": 3,
   "metadata": {},
   "outputs": [],
   "source": [
    "# Load empty board\n",
    "df = pd.read_csv('board.csv', header=None)\n",
    "index = []\n",
    "for i in range(-4, 21):\n",
    "    index.append(i)\n",
    "df.set_index([pd.Index(index)], inplace=True)"
   ]
  },
  {
   "cell_type": "code",
   "execution_count": 4,
   "metadata": {},
   "outputs": [],
   "source": [
    "# Initialize board\n",
    "output = widgets.Output()\n",
    "board = widgets.HBox([output], layout=Layout(width='400px', height='600px'))\n",
    "def refreshBoard(source=None):\n",
    "    output.clear_output(wait=True)\n",
    "    with output:\n",
    "        display(df.iloc[4:24])"
   ]
  },
  {
   "cell_type": "code",
   "execution_count": 5,
   "metadata": {},
   "outputs": [],
   "source": [
    "# Drop new tetromino\n",
    "t = {}\n",
    "def randomTetromino():\n",
    "    global t\n",
    "    tetrominos = [{'type':'I', 'location':[(0,4), (1, 4), (2,4), (3,4)]}, \n",
    "                  {'type':'O', 'location':[(2,4), (2, 5), (3,4), (3,5)]},\n",
    "                  {'type':'T', 'location':[(2,5), (3, 4), (3,5), (3,6)]},\n",
    "                  {'type':'S', 'location':[(2,5), (2, 6), (3,4), (3,5)]},\n",
    "                  {'type':'Z', 'location':[(2,4), (2, 5), (3,4), (3,5)]},\n",
    "                  {'type':'J', 'location':[(2,4), (3, 4), (3,5), (3,6)]},\n",
    "                  {'type':'L', 'location':[(2,6), (3, 4), (3,5), (3,6)]}]\n",
    "    t = random.choice(tetrominos)\n",
    "    for l in t['location']:\n",
    "        df.iloc[l] = \"#\""
   ]
  },
  {
   "cell_type": "code",
   "execution_count": 6,
   "metadata": {},
   "outputs": [],
   "source": [
    "def move(dir): \n",
    "    nt = [] \n",
    "    for i in range(0, 4):\n",
    "        if dir == \"down\":\n",
    "            nt.append((t['location'][i][0]+1, t['location'][i][1]))\n",
    "        elif dir == \"left\":\n",
    "            nt.append((t['location'][i][0], t['location'][i][1]-1))\n",
    "        elif dir == \"right\":\n",
    "            nt.append((t['location'][i][0], t['location'][i][1]+1))\n",
    "            \n",
    "    blocked = False\n",
    "    # make sure nothing blocks\n",
    "    for i in range(0, 4):\n",
    "        if df.iloc[nt[i]] == \"#\" and nt[i] not in t['location']:\n",
    "            blocked = True\n",
    "            if dir == \"down\":\n",
    "                randomTetromino()\n",
    "            break\n",
    "        if dir == \"left\" and nt[i][1] < 0:\n",
    "            blocked = True\n",
    "            break\n",
    "        if dir == \"right\" and nt[i][1] > 10:\n",
    "            blocked = True\n",
    "            break\n",
    "    if not blocked:\n",
    "        for l in t['location']:\n",
    "            df.iloc[l] = ' '\n",
    "        for i in range(0, 4):\n",
    "            t['location'][i] = nt[i]\n",
    "        for l in t['location']:\n",
    "            df.iloc[l] = \"#\""
   ]
  },
  {
   "cell_type": "code",
   "execution_count": 7,
   "metadata": {},
   "outputs": [],
   "source": [
    "def moveDown(): \n",
    "    nt = [] \n",
    "    for i in range(0, 4):\n",
    "        nt.append((t['location'][i][0]+1, t['location'][i][1]))\n",
    "    blocked = False\n",
    "    # make sure nothing blocks\n",
    "    for i in range(0, 4):\n",
    "        if df.iloc[nt[i]] == \"#\" and nt[i] not in t['location']:\n",
    "            blocked = True\n",
    "            randomTetromino()\n",
    "            break\n",
    "    if not blocked:\n",
    "        for l in t['location']:\n",
    "            df.iloc[l] = ' '\n",
    "        for i in range(0, 4):\n",
    "            t['location'][i] = nt[i]\n",
    "        for l in t['location']:\n",
    "            df.iloc[l] = \"#\""
   ]
  },
  {
   "cell_type": "code",
   "execution_count": 8,
   "metadata": {},
   "outputs": [],
   "source": [
    "# Listen to keyboard events\n",
    "keyPressed = HTML('Key Pressed')\n",
    "boardEvent = Event(source=output, watched_events=['keydown'])\n",
    "def handle_event(event):\n",
    "    lines = ['{}: {}'.format(k, v) for k, v in event.items()]\n",
    "    content = '<br>'.join(lines)\n",
    "    keyPressed.value = event['code']\n",
    "    if event['code'] == 'ArrowDown':\n",
    "        move(\"down\")\n",
    "    elif event['code'] == 'ArrowLeft':\n",
    "        move(\"left\")\n",
    "    elif event['code'] == 'ArrowRight':\n",
    "        move(\"right\")\n",
    "    refreshBoard(None)\n",
    "boardEvent.on_dom_event(handle_event)"
   ]
  },
  {
   "cell_type": "code",
   "execution_count": 9,
   "metadata": {},
   "outputs": [],
   "source": [
    "# Start game \n",
    "def startGame():\n",
    "    randomTetromino()\n",
    "    display(board, keyPressed)\n",
    "    refreshBoard()"
   ]
  },
  {
   "cell_type": "code",
   "execution_count": 10,
   "metadata": {},
   "outputs": [
    {
     "data": {
      "application/vnd.jupyter.widget-view+json": {
       "model_id": "4e9f630fffed477ab04055f821acffde",
       "version_major": 2,
       "version_minor": 0
      },
      "text/plain": [
       "HBox(children=(Output(),), layout=Layout(height='600px', width='400px'))"
      ]
     },
     "metadata": {},
     "output_type": "display_data"
    },
    {
     "data": {
      "application/vnd.jupyter.widget-view+json": {
       "model_id": "83a2aa8c22184b6ea8c8ff6823cd3e78",
       "version_major": 2,
       "version_minor": 0
      },
      "text/plain": [
       "HTML(value='Key Pressed')"
      ]
     },
     "metadata": {},
     "output_type": "display_data"
    }
   ],
   "source": [
    "startGame()"
   ]
  },
  {
   "cell_type": "code",
   "execution_count": null,
   "metadata": {},
   "outputs": [],
   "source": []
  }
 ],
 "metadata": {
  "kernelspec": {
   "display_name": "Python 3",
   "language": "python",
   "name": "python3"
  },
  "language_info": {
   "codemirror_mode": {
    "name": "ipython",
    "version": 3
   },
   "file_extension": ".py",
   "mimetype": "text/x-python",
   "name": "python",
   "nbconvert_exporter": "python",
   "pygments_lexer": "ipython3",
   "version": "3.8.1"
  }
 },
 "nbformat": 4,
 "nbformat_minor": 4
}

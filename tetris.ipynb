{
 "cells": [
  {
   "cell_type": "code",
   "execution_count": 1,
   "metadata": {},
   "outputs": [],
   "source": [
    "import pandas as pd\n",
    "import ipywidgets as widgets\n",
    "from ipywidgets import Layout, HTML\n",
    "\n",
    "from IPython.core.interactiveshell import InteractiveShell\n",
    "from ipyevents import Event\n",
    "import random"
   ]
  },
  {
   "cell_type": "code",
   "execution_count": 2,
   "metadata": {},
   "outputs": [],
   "source": [
    "# Setup global configurations\n",
    "#InteractiveShell.ast_node_interactivity = \"all\"\n",
    "max_rows = 20\n",
    "pd.set_option('display.max_rows', max_rows)"
   ]
  },
  {
   "cell_type": "code",
   "execution_count": 3,
   "metadata": {},
   "outputs": [],
   "source": [
    "# Load empty board\n",
    "df = pd.read_csv('board.csv', header=None)\n",
    "index = []\n",
    "for i in range(-4, 21):\n",
    "    index.append(i)\n",
    "df.set_index([pd.Index(index)], inplace=True)"
   ]
  },
  {
   "cell_type": "code",
   "execution_count": 4,
   "metadata": {},
   "outputs": [],
   "source": [
    "# Initialize board\n",
    "output = widgets.Output()\n",
    "board = widgets.HBox([output], layout=Layout(width='400px', height='600px'))\n",
    "def refreshBoard(source=None):\n",
    "    output.clear_output()\n",
    "    with output:\n",
    "        display(df.iloc[4:24])"
   ]
  },
  {
   "cell_type": "code",
   "execution_count": 5,
   "metadata": {},
   "outputs": [],
   "source": [
    "# Drop new tetromino\n",
    "t = {}\n",
    "def randomTetromino():\n",
    "    global t\n",
    "    tetrominos = [{'type':'I', 'location':[(0,4), (1, 4), (2,4), (3,4)]}, \n",
    "                  {'type':'O', 'location':[(2,4), (2, 5), (3,4), (3,5)]},\n",
    "                  {'type':'T', 'location':[(2,5), (3, 4), (3,5), (3,6)]},\n",
    "                  {'type':'S', 'location':[(2,5), (2, 6), (3,4), (3,5)]},\n",
    "                  {'type':'Z', 'location':[(2,4), (2, 5), (3,4), (3,5)]},\n",
    "                  {'type':'J', 'location':[(2,4), (3, 4), (3,5), (3,6)]},\n",
    "                  {'type':'L', 'location':[(2,6), (3, 4), (3,5), (3,6)]}]\n",
    "    t = random.choice(tetrominos)\n",
    "    for l in t['location']:\n",
    "        df.iloc[l] = \"#\""
   ]
  },
  {
   "cell_type": "code",
   "execution_count": 6,
   "metadata": {},
   "outputs": [],
   "source": [
    "def moveDown(): \n",
    "    nt = [] \n",
    "    for i in range(0, 4):\n",
    "        nt.append((t['location'][i][0]+1, t['location'][i][1]))\n",
    "    blocked = False\n",
    "    # make sure nothing blocks\n",
    "    for i in range(0, 4):\n",
    "        if df.iloc[nt[i]] == \"#\" and nt[i] not in t['location']:\n",
    "            blocked = True\n",
    "            randomTetromino()\n",
    "            break\n",
    "    if not blocked:\n",
    "        for l in t['location']:\n",
    "            df.iloc[l] = ' '\n",
    "        for i in range(0, 4):\n",
    "            t['location'][i] = nt[i]\n",
    "        for l in t['location']:\n",
    "            df.iloc[l] = \"#\""
   ]
  },
  {
   "cell_type": "code",
   "execution_count": 7,
   "metadata": {},
   "outputs": [],
   "source": [
    "# Listen to keyboard events\n",
    "keyPressed = HTML('Key Pressed')\n",
    "boardEvent = Event(source=output, watched_events=['keydown'])\n",
    "def handle_event(event):\n",
    "    lines = ['{}: {}'.format(k, v) for k, v in event.items()]\n",
    "    content = '<br>'.join(lines)\n",
    "    keyPressed.value = event['code']\n",
    "    if event['code'] == 'ArrowDown':\n",
    "        moveDown()\n",
    "    refreshBoard(None)\n",
    "boardEvent.on_dom_event(handle_event)"
   ]
  },
  {
   "cell_type": "code",
   "execution_count": 8,
   "metadata": {},
   "outputs": [],
   "source": [
    "# Start game \n",
    "def startGame():\n",
    "    randomTetromino()\n",
    "    display(board, keyPressed)\n",
    "    refreshBoard()"
   ]
  },
  {
   "cell_type": "code",
   "execution_count": 9,
   "metadata": {},
   "outputs": [
    {
     "data": {
      "application/vnd.jupyter.widget-view+json": {
       "model_id": "1f624caa6b7441dea85ad75e472ea368",
       "version_major": 2,
       "version_minor": 0
      },
      "text/plain": [
       "HBox(children=(Output(),), layout=Layout(height='600px', width='400px'))"
      ]
     },
     "metadata": {},
     "output_type": "display_data"
    },
    {
     "data": {
      "application/vnd.jupyter.widget-view+json": {
       "model_id": "5fbce5ada73a4357ab6be9271079878d",
       "version_major": 2,
       "version_minor": 0
      },
      "text/plain": [
       "HTML(value='Key Pressed')"
      ]
     },
     "metadata": {},
     "output_type": "display_data"
    }
   ],
   "source": [
    "startGame()"
   ]
  }
 ],
 "metadata": {
  "kernelspec": {
   "display_name": "Python 3",
   "language": "python",
   "name": "python3"
  },
  "language_info": {
   "codemirror_mode": {
    "name": "ipython",
    "version": 3
   },
   "file_extension": ".py",
   "mimetype": "text/x-python",
   "name": "python",
   "nbconvert_exporter": "python",
   "pygments_lexer": "ipython3",
   "version": "3.8.1"
  }
 },
 "nbformat": 4,
 "nbformat_minor": 4
}
